{
 "cells": [
  {
   "cell_type": "markdown",
   "id": "bright-priority",
   "metadata": {},
   "source": [
    "# Network Data Analysis Coursework 1"
   ]
  },
  {
   "cell_type": "markdown",
   "id": "coupled-greece",
   "metadata": {},
   "source": [
    "## Task A"
   ]
  },
  {
   "cell_type": "markdown",
   "id": "choice-junior",
   "metadata": {},
   "source": [
    "### 1. The characteristic properties of the contact network"
   ]
  },
  {
   "cell_type": "markdown",
   "id": "acting-affiliate",
   "metadata": {},
   "source": [
    "Import the dataset"
   ]
  },
  {
   "cell_type": "code",
   "execution_count": 5,
   "id": "ethical-klein",
   "metadata": {},
   "outputs": [],
   "source": [
    "import networkx as nx\n",
    "import pandas as pd\n",
    "import collections\n",
    "import matplotlib.pyplot as plt\n",
    "import numpy as np"
   ]
  },
  {
   "cell_type": "code",
   "execution_count": 6,
   "id": "patent-impossible",
   "metadata": {},
   "outputs": [
    {
     "data": {
      "text/html": [
       "<div>\n",
       "<style scoped>\n",
       "    .dataframe tbody tr th:only-of-type {\n",
       "        vertical-align: middle;\n",
       "    }\n",
       "\n",
       "    .dataframe tbody tr th {\n",
       "        vertical-align: top;\n",
       "    }\n",
       "\n",
       "    .dataframe thead th {\n",
       "        text-align: right;\n",
       "    }\n",
       "</style>\n",
       "<table border=\"1\" class=\"dataframe\">\n",
       "  <thead>\n",
       "    <tr style=\"text-align: right;\">\n",
       "      <th></th>\n",
       "      <th>node i</th>\n",
       "      <th>node j</th>\n",
       "    </tr>\n",
       "  </thead>\n",
       "  <tbody>\n",
       "    <tr>\n",
       "      <th>0</th>\n",
       "      <td>120</td>\n",
       "      <td>1392</td>\n",
       "    </tr>\n",
       "    <tr>\n",
       "      <th>1</th>\n",
       "      <td>120</td>\n",
       "      <td>181</td>\n",
       "    </tr>\n",
       "    <tr>\n",
       "      <th>2</th>\n",
       "      <td>120</td>\n",
       "      <td>778</td>\n",
       "    </tr>\n",
       "    <tr>\n",
       "      <th>3</th>\n",
       "      <td>120</td>\n",
       "      <td>998</td>\n",
       "    </tr>\n",
       "    <tr>\n",
       "      <th>4</th>\n",
       "      <td>120</td>\n",
       "      <td>1260</td>\n",
       "    </tr>\n",
       "  </tbody>\n",
       "</table>\n",
       "</div>"
      ],
      "text/plain": [
       "   node i  node j\n",
       "0     120    1392\n",
       "1     120     181\n",
       "2     120     778\n",
       "3     120     998\n",
       "4     120    1260"
      ]
     },
     "execution_count": 6,
     "metadata": {},
     "output_type": "execute_result"
    }
   ],
   "source": [
    "# import data set\n",
    "df_dat = pd.read_table(\"Data/", header = None,delimiter=' ', names= ['t','node i','node j'])\n",
    "# drop the time from the data\n",
    "df_dat.drop('t', axis = 1, inplace = True)\n",
    "df_dat.head(5)\n",
    "# ls = df_dat.values.tolist()\n",
    "# print(ls)\n",
    "# n = 0\n",
    "# for i in ls:\n",
    "# #     print(i)\n",
    "#     j = [i[1],i[0]]\n",
    "# #     print(j)\n",
    "#     if j in ls:\n",
    "#         n += 1\n",
    "#     else:\n",
    "#         print(\"No\")\n",
    "# print(n)"
   ]
  },
  {
   "cell_type": "markdown",
   "id": "metropolitan-consciousness",
   "metadata": {},
   "source": [
    "Significant amount"
   ]
  },
  {
   "cell_type": "code",
   "execution_count": 12,
   "id": "removed-injury",
   "metadata": {},
   "outputs": [
    {
     "data": {
      "text/plain": [
       "array([(18, 845), (219, 889), (80, 889), (285, 866), (706, 908),\n",
       "       (200, 496), (80, 219), (219, 466), (466, 889), (72, 261),\n",
       "       (269, 893), (3, 908), (487, 603), (706, 3), (162, 261), (183, 694),\n",
       "       (923, 261), (184, 893), (424, 845), (779, 441), (72, 162),\n",
       "       (79, 134), (215, 580), (889, 649), (694, 977), (706, 859),\n",
       "       (210, 908), (80, 649), (580, 1323), (54, 134), (80, 466),\n",
       "       (72, 923), (131, 884), (691, 706), (428, 706), (184, 269),\n",
       "       (3, 859), (706, 210), (859, 908), (275, 882), (428, 908),\n",
       "       (691, 908), (3, 210), (253, 706), (424, 18), (219, 649),\n",
       "       (253, 908), (253, 3), (859, 210), (923, 162), (691, 3), (248, 771),\n",
       "       (510, 893), (54, 79), (428, 3), (753, 603), (253, 691), (183, 977),\n",
       "       (691, 603), (79, 447), (465, 893), (253, 859), (753, 210),\n",
       "       (117, 977), (691, 859), (753, 859), (694, 117), (859, 603),\n",
       "       (691, 210), (198, 343), (97, 985), (527, 893), (253, 428),\n",
       "       (269, 465), (691, 487), (691, 753), (366, 491), (14, 181),\n",
       "       (753, 487), (80, 246), (253, 210), (119, 491), (119, 366),\n",
       "       (253, 487), (753, 908), (210, 603), (3, 603), (753, 3),\n",
       "       (181, 1260), (184, 510), (18, 650), (322, 513), (428, 691),\n",
       "       (15, 134), (706, 487), (215, 1323), (269, 510), (859, 487),\n",
       "       (269, 527), (401, 429), (650, 845), (580, 544), (267, 285),\n",
       "       (253, 753), (706, 753), (183, 117), (466, 649), (267, 866),\n",
       "       (656, 741), (401, 1245), (210, 487), (784, 894), (908, 487),\n",
       "       (220, 985), (488, 649), (184, 527), (253, 603), (219, 894),\n",
       "       (510, 527), (172, 893), (656, 886), (246, 1260), (387, 488),\n",
       "       (428, 859), (401, 580), (172, 269), (3, 487), (246, 1362),\n",
       "       (184, 465), (908, 603), (346, 1362), (15, 79), (147, 429),\n",
       "       (923, 269), (428, 210), (488, 1392), (1362, 1260), (429, 1245),\n",
       "       (246, 466), (954, 1362), (322, 374), (110, 970), (1260, 845),\n",
       "       (14, 441), (374, 513), (15, 54), (753, 889), (147, 1392),\n",
       "       (498, 694), (246, 181), (923, 181), (694, 269), (172, 465),\n",
       "       (246, 889), (1362, 181), (889, 894), (80, 1260), (642, 694),\n",
       "       (923, 694), (183, 498), (706, 603), (99, 874), (99, 653),\n",
       "       (267, 691), (80, 784), (215, 544), (97, 1362), (20, 181),\n",
       "       (428, 478), (1260, 18), (39, 71), (211, 219), (387, 1392),\n",
       "       (465, 527), (477, 882), (269, 181), (183, 642), (246, 272),\n",
       "       (147, 779), (1362, 272), (55, 110), (181, 441), (211, 1164),\n",
       "       (147, 401), (172, 184), (80, 1362), (649, 1392), (387, 649),\n",
       "       (99, 674), (267, 603), (401, 1392), (261, 694), (954, 1260),\n",
       "       (1260, 272), (694, 181), (466, 784), (147, 1260), (14, 544),\n",
       "       (219, 246), (246, 954), (122, 894), (20, 923), (178, 653),\n",
       "       (246, 477), (71, 1362), (211, 889), (222, 275), (71, 1260),\n",
       "       (110, 985), (181, 272), (59, 894), (80, 954), (131, 763),\n",
       "       (219, 339), (246, 649), (246, 275), (954, 1392), (603, 649),\n",
       "       (246, 71), (322, 893), (71, 272), (99, 117), (923, 440),\n",
       "       (429, 1392), (97, 346), (720, 985), (267, 487), (193, 615),\n",
       "       (80, 181), (246, 784), (72, 440), (250, 465), (779, 1260),\n",
       "       (527, 771), (267, 753), (250, 110), (954, 181), (784, 71),\n",
       "       (779, 1392), (267, 210), (193, 884), (275, 1260), (54, 236),\n",
       "       (80, 71), (954, 272), (261, 440), (71, 954), (267, 908),\n",
       "       (1492, 272), (267, 859), (71, 181), (80, 272), (215, 649),\n",
       "       (428, 603), (253, 267), (134, 193), (784, 889), (1323, 544),\n",
       "       (181, 998), (183, 261), (131, 880), (295, 909), (39, 80),\n",
       "       (248, 527), (275, 908), (181, 845), (80, 211), (272, 110),\n",
       "       (250, 272), (642, 977), (118, 147), (1362, 985), (487, 649),\n",
       "       (504, 882), (267, 269), (465, 272), (14, 778), (428, 753),\n",
       "       (466, 894), (55, 985), (275, 477), (215, 603), (784, 272),\n",
       "       (246, 222), (894, 488), (498, 977), (465, 110), (71, 580),\n",
       "       (118, 1260), (1362, 117), (366, 793), (378, 99), (477, 272),\n",
       "       (510, 771), (215, 487), (267, 706), (1492, 246), (193, 489),\n",
       "       (378, 1492), (147, 603), (71, 110), (498, 642), (275, 1362),\n",
       "       (246, 117), (178, 236), (219, 784), (401, 779), (741, 886),\n",
       "       (346, 954), (1492, 1260), (374, 477), (465, 510), (424, 650),\n",
       "       (784, 110), (339, 889), (211, 193), (1492, 1362), (39, 1362),\n",
       "       (39, 1260), (424, 513), (211, 615), (1492, 181), (236, 259),\n",
       "       (615, 694), (39, 246), (784, 649), (882, 908), (198, 889),\n",
       "       (1492, 80), (784, 1362), (20, 694), (250, 71), (20, 269),\n",
       "       (220, 720), (466, 1362), (15, 74), (372, 491), (466, 954),\n",
       "       (246, 374), (466, 272), (147, 1245), (261, 642), (80, 894),\n",
       "       (339, 894), (248, 322), (39, 954), (1260, 117), (250, 985),\n",
       "       (198, 866), (387, 580), (162, 440), (615, 1164), (894, 923),\n",
       "       (784, 954), (183, 615), (346, 14), (261, 498), (466, 181),\n",
       "       (466, 1260), (477, 504), (120, 236), (181, 18), (706, 889),\n",
       "       (793, 491), (784, 250), (1260, 650), (193, 1164), (267, 923),\n",
       "       (211, 649), (141, 333), (211, 893), (836, 275), (894, 649),\n",
       "       (998, 1260), (267, 889), (784, 181), (1492, 250), (236, 372),\n",
       "       (178, 779), (477, 513), (118, 779), (267, 219), (89, 147),\n",
       "       (71, 985), (428, 487), (339, 99), (172, 510), (89, 118),\n",
       "       (270, 660), (219, 285), (74, 193), (211, 466), (181, 117),\n",
       "       (322, 272), (691, 894), (741, 401), (488, 954), (285, 889),\n",
       "       (741, 429), (322, 477), (211, 269), (119, 793), (120, 178),\n",
       "       (39, 272), (272, 985), (198, 219), (54, 178), (222, 1260),\n",
       "       (784, 1260), (374, 424), (215, 401), (80, 117), (39, 784),\n",
       "       (691, 59), (429, 779), (465, 985), (15, 193), (580, 985),\n",
       "       (580, 649), (39, 181), (270, 285), (741, 1245), (1492, 110),\n",
       "       (147, 487), (250, 55), (267, 694), (267, 836), (779, 181),\n",
       "       (97, 220), (272, 845), (71, 426), (172, 527), (178, 372),\n",
       "       (250, 580), (401, 954), (580, 55), (236, 642), (1492, 465),\n",
       "       (1245, 1392), (215, 387), (401, 1323), (269, 487), (339, 466),\n",
       "       (889, 487), (465, 580), (908, 440), (465, 71), (401, 1260),\n",
       "       (889, 603), (181, 778), (478, 99), (465, 954), (74, 131),\n",
       "       (210, 269), (178, 295), (259, 261), (275, 954), (248, 1362),\n",
       "       (603, 779), (859, 1260), (147, 649), (779, 1362), (71, 117),\n",
       "       (498, 117), (836, 866), (580, 272), (250, 954), (267, 466),\n",
       "       (162, 884), (59, 603), (322, 674), (859, 440), (424, 1260),\n",
       "       (465, 55), (272, 55), (694, 487), (198, 285), (426, 580),\n",
       "       (923, 884), (374, 1362), (246, 465), (923, 998), (275, 181),\n",
       "       (267, 3), (1492, 71), (198, 80), (250, 181), (15, 694), (706, 998),\n",
       "       (1392, 1260), (1260, 440), (488, 1323), (374, 272), (261, 884),\n",
       "       (270, 998), (275, 440), (178, 909), (215, 725), (908, 1260),\n",
       "       (580, 110), (1362, 998), (269, 908), (1164, 650), (198, 267),\n",
       "       (923, 1260), (998, 440), (779, 106), (465, 1362), (1492, 954),\n",
       "       (466, 71), (378, 272), (859, 998), (122, 784), (954, 110),\n",
       "       (275, 374), (275, 272), (374, 440), (378, 117), (426, 649),\n",
       "       (269, 845), (656, 720), (1492, 466), (80, 222), (59, 487),\n",
       "       (1492, 784), (80, 275), (401, 440), (80, 465), (211, 650),\n",
       "       (779, 998), (859, 374), (859, 275), (477, 110), (859, 269),\n",
       "       (908, 998), (923, 859), (1362, 440), (120, 440), (923, 275),\n",
       "       (79, 160), (1362, 106), (779, 954), (54, 120), (275, 998),\n",
       "       (923, 1362), (859, 1362), (486, 771), (487, 779), (246, 250),\n",
       "       (923, 487), (866, 603), (250, 1362), (269, 275), (859, 401),\n",
       "       (257, 79), (322, 527), (269, 374), (285, 466), (836, 285),\n",
       "       (779, 14), (779, 440), (1362, 245), (248, 110), (859, 779),\n",
       "       (269, 779), (269, 440), (374, 779), (219, 1164), (374, 998),\n",
       "       (374, 908), (374, 1260), (275, 401), (784, 477), (784, 465),\n",
       "       (43, 908), (246, 110), (1392, 106), (836, 908), (269, 1362),\n",
       "       (275, 779), (378, 200), (236, 908), (250, 1260), (248, 486),\n",
       "       (80, 809), (923, 908), (465, 181), (725, 779), (615, 977),\n",
       "       (71, 55), (520, 845), (923, 374), (445, 866), (923, 160),\n",
       "       (694, 998), (498, 615), (923, 120), (908, 401), (72, 884),\n",
       "       (466, 110), (908, 1362), (401, 1362), (908, 779), (131, 193),\n",
       "       (156, 580), (1492, 809), (401, 998), (59, 866), (80, 250),\n",
       "       (89, 1260), (859, 954), (250, 248), (998, 245), (923, 210),\n",
       "       (178, 491), (998, 845), (269, 245), (248, 985), (691, 649),\n",
       "       (1492, 39), (15, 642), (210, 374), (779, 245), (882, 272),\n",
       "       (477, 71), (691, 889), (245, 845), (245, 440), (465, 1260),\n",
       "       (120, 374), (908, 954), (908, 845), (859, 845), (694, 401),\n",
       "       (120, 1362), (923, 401), (270, 845), (270, 866), (649, 985),\n",
       "       (269, 1260), (120, 1260), (954, 998), (954, 985), (275, 245),\n",
       "       (649, 110), (954, 440), (120, 998), (269, 998), (784, 985),\n",
       "       (649, 55), (80, 110), (269, 954), (603, 1260), (374, 245),\n",
       "       (275, 845), (923, 779), (859, 245), (1362, 845), (577, 908),\n",
       "       (120, 859), (257, 923), (210, 275), (779, 845), (236, 440),\n",
       "       (374, 845), (378, 246), (39, 466), (210, 1362), (39, 110),\n",
       "       (440, 845), (426, 272), (908, 245), (374, 954), (120, 275),\n",
       "       (210, 779), (236, 275), (210, 440), (193, 333), (374, 401),\n",
       "       (426, 985), (741, 387)], dtype=object)"
      ]
     },
     "execution_count": 12,
     "metadata": {},
     "output_type": "execute_result"
    }
   ],
   "source": [
    "# calculate the interation records\n",
    "contact_times =  df_dat.value_counts()\n",
    "# select the 20 or more records of interaction\n",
    "sgft_amnt = contact_times[contact_times >= 20]\n",
    "# an numpy array of these people\n",
    "np_sgft = sgft_amnt.index.values\n",
    "# transform to the pandas dataframe\n",
    "ls_sgft = []\n",
    "for i in np_sgft:\n",
    "    cont = [i[0],i[1]]\n",
    "    ls_sgft.append(cont)\n",
    "df_contact = pd.DataFrame(ls_sgft, columns = ['node i','node j'])\n",
    "df_contact"
   ]
  },
  {
   "cell_type": "code",
   "execution_count": 20,
   "id": "divine-pavilion",
   "metadata": {
    "scrolled": true
   },
   "outputs": [
    {
     "name": "stdout",
     "output_type": "stream",
     "text": [
      "Name: InVS15\n",
      "Type: Graph\n",
      "Number of nodes: 150\n",
      "Number of edges: 681\n",
      "Average degree:   9.0800\n"
     ]
    }
   ],
   "source": [
    "G = nx.from_pandas_edgelist(df_contact, 'node i', 'node j')\n",
    "G.name = \"InVS15\"\n",
    "print(nx.info(G))"
   ]
  },
  {
   "cell_type": "code",
   "execution_count": 9,
   "id": "conscious-illinois",
   "metadata": {
    "scrolled": true
   },
   "outputs": [
    {
     "name": "stdout",
     "output_type": "stream",
     "text": [
      "Mean average degree: 9\n"
     ]
    }
   ],
   "source": [
    "degree_sequence = [d for n, d in G.degree()]\n",
    "mean_degree = sum (degree_sequence) / len (degree_sequence)\n",
    "print (\"Mean average degree: {}\".format(int(mean_degree)))"
   ]
  },
  {
   "cell_type": "markdown",
   "id": "endangered-native",
   "metadata": {},
   "source": [
    "Degree distribution"
   ]
  },
  {
   "cell_type": "code",
   "execution_count": 10,
   "id": "eastern-shock",
   "metadata": {},
   "outputs": [
    {
     "data": {
      "text/plain": [
       "<BarContainer object of 36 artists>"
      ]
     },
     "execution_count": 10,
     "metadata": {},
     "output_type": "execute_result"
    },
    {
     "data": {
      "image/png": "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\n",
      "text/plain": [
       "<Figure size 432x288 with 1 Axes>"
      ]
     },
     "metadata": {
      "needs_background": "light"
     },
     "output_type": "display_data"
    }
   ],
   "source": [
    "plt.bar(len(nx.degree_histogram(G)),nx.degree_histogram(G))\n"
   ]
  },
  {
   "cell_type": "code",
   "execution_count": 11,
   "id": "independent-poker",
   "metadata": {},
   "outputs": [
    {
     "data": {
      "image/png": "iVBORw0KGgoAAAANSUhEUgAAAX4AAAEWCAYAAABhffzLAAAAOXRFWHRTb2Z0d2FyZQBNYXRwbG90bGliIHZlcnNpb24zLjMuMywgaHR0cHM6Ly9tYXRwbG90bGliLm9yZy/Il7ecAAAACXBIWXMAAAsTAAALEwEAmpwYAAAXH0lEQVR4nO3de5QtZX3m8e8jgnITQRoVBI9GdKnoqGkSb0lQjEOIEU3QkVEHFD3GGe9RMeoIJqMxxjEkMSPriIgiwSCigvECKmIwCBwIKggaowhHkNOGKBeNCPzmj12t205fdvc5+9L9fj9r9eq9q2rX+9vV3U/XfqvqrVQVkqR23GncBUiSRsvgl6TGGPyS1BiDX5IaY/BLUmMMfklqjMEvrVCSm5Pcfyut6/VJju8er0tSSe68lda9T1frNltjfVr9DH4NRZKrkvwkyU1Jfpjkn5L8YZKJ/51LckCSO7qwvDnJpiSnJtm/f7mq2qmqvj3AujYt1WZVvbWqXrCltXdtXpXkSX3rvrqr9fatsX6tfhP/R6hV7feqamfgvsDbgKOA9w6joSHszV5bVTsBOwOPBq4E/jHJgVu5HbbWnr00KINfQ1dVP6qqM4D/BhyeZD+AJHdJ8o4kVye5PslxSbaffV2S1ya5Lsm1SV7QdX88oJt3YpJ3J/lkkluAJyTZM8lHkswk+U6Sl/Wt605JXpfkX5P8W7cHv9sAtVdVbaqqNwHHA3/et87+eg5O8vXuE873krw6yY7Ap4A9+z497JnkmCSnJflgkhuBI7ppH5zT/PO7935dkj/qa/fEJP+n7/nPP1UkOQnYBziza++1c7uOuhrOSHJDkm8leWHfuo7pts0HuvdyeZLppbaTVheDXyNTVRcCm4Df6Cb9OfBA4BHAA4C9gDcBJDkIeBXwpG7eb82zyv8OvIXeXvk/AWcCX+nWcyDwiiT/tVv2ZcDTuvXsCfw78LfLfAunA4/qAn2u9wIv6j7h7Ad8vqpuAX6H7tND93Vtt/whwGnA3YGTF2jvCcC+wJOB1/V33yykqp4LXE3v09ZOVfX2eRY7hd7PYU/gUOCtcz7JPBX4UFfbGcC7lmpXq4vBr1G7FtgtSYAXAq+sqhuq6ibgrcCzuuWeCbyvqi6vqh8Db55nXR+vqi9V1R3Aw4CpqvqTqrq163t/T9/6XgS8odt7/ylwDHDoMrtZrgVCLxDn+hnwkCR3q6p/r6pLlljX+VX1saq6o6p+ssAyb66qW6rqa8D7gMOWUeu8kuwNPB44qqr+o6oupfdJ5rl9i51XVZ/sjgmcBPyXLW1Xk8Xg16jtBdwATAE7ABd3B39/CHy6mw69vdFr+l7X/3i+afel16Xyw771vR64Z9/8j/bNuwK4vW/+oLUX8MN55v0BcDDw3STnJnnMEuua7/0stsx36W2TLbUnMPuPtn/de/U9/37f4x8Dd/U4xNriD1Mj050VsxdwHvAD4CfAQ6vqe/Msfh1wn77ne8+zTP/QstcA36mqfRdo/hrg+VX1pWUX/gtPBy7punB+uZCqi4BDkmwLvAQ4tat5oeFvBxkWd296B5Wh128/2010C71/mrPutYx1z37i2rkv/PcB5vsZaI1yj19Dl+RuSZ5Cr9/4g1X1ta575j3AXybZo1tur74++VOB5yV5cJId6Pr+F3EhcGOSo5Jsn2SbJPv1nYJ5HPCWJPft2ppKcsgAtaer62jgBfQ+RcxdZrskz06yS1X9DLiR3qcJgOuBeyTZZam25vG/k+yQ5KHA84C/76ZfChycZLck9wJeMed11wPzXl9QVdfQOx7yZ0numuThwJEsfJxBa5DBr2E6M8lN9Pa23wC8k16AzToK+Bbw5e7sls8CDwKoqk8Bfw2c0y1zfvean87XUNcf/Xv0DhR/h94niuOB2cD9K3oHKs/qavoy8OuL1L5nkpuBm4GL6B1DOKCqzlpg+ecCV3Xv4w+B53R1XUnvYOq3u26m5XTXnEvvvX8OeEdf2yfRO4h9FXAWv/iHMOvPgDd27b16nvUeBqyjt/f/UeDoqjp7GXVplYs3YtFqkOTBwGXAXarqtnHXI61m7vFrYiV5eteNsiu9Uz/PNPSlLWfwa5K9CJgB/pVen/mLx1uOtDbY1SNJjXGPX5IasyrO4999991r3bp14y5DklaViy+++AdVNTV3+qoI/nXr1rFx48ZxlyFJq0qS78433a4eSWqMwS9JjTH4JakxBr8kNcbgl6TGGPyS1BiDX5IaY/BLUmMMfklqzKq4cnfYkoXnOYadpLXGPX5JaozBL0mNMfglqTEGvyQ1xuCXpMYY/JLUGINfkhpj8EtSY4YW/ElOSLI5yWVzpr80yTeSXJ7k7cNqX5I0v2Hu8Z8IHNQ/IckTgEOAh1fVQ4F3DLF9SdI8hhb8VfVF4IY5k18MvK2qftots3lY7UuS5jfqPv4HAr+R5IIk5ybZf6EFk6xPsjHJxpmZmRGWKElr26iD/87ArsCjgdcApybzD5FWVRuqarqqpqempkZZoyStaaMO/k3A6dVzIXAHsPuIa5Ckpo06+D8GPBEgyQOB7YAfjLgGSWra0MbjT3IKcACwe5JNwNHACcAJ3SmetwKHVznivSSN0tCCv6oOW2DWc4bVpiRpaV65K0mNMfglqTEGvyQ1xuCXpMYY/JLUGINfkhoztNM5J8X8A0L0eAWBpBa5xy9JjTH4JakxBr8kNcbgl6TGGPyS1BiDX5IaY/BLUmMMfklqzNCCP8kJSTZ3N12ZO+/VSSqJt12UpBEb5h7/icBBcycm2Rv4beDqIbYtSVrA0IK/qr4I3DDPrL8EXgs4YIIkjcFI+/iTPBX4XlV9ZYBl1yfZmGTjzMzMCKobvmThr+UsI0lbYmTBn2QH4A3AmwZZvqo2VNV0VU1PTU0NtzhJasgo9/h/Bbgf8JUkVwH3AS5Jcq8R1iBJzRvZsMxV9TVgj9nnXfhPV9UPRlWDJGm4p3OeApwPPCjJpiRHDqstSdLghrbHX1WHLTF/3bDaliQtzCt3JakxBr8kNcbgl6TGGPyS1BiDX5IaY/BLUmMMfklqjMEvSY0x+CWpMQa/JDXG4Jekxhj8ktQYg1+SGmPwS1JjDH5Jaswwb8RyQpLNSS7rm/YXSa5M8tUkH01y92G1L0ma3zD3+E8EDpoz7Wxgv6p6OPBN4I+H2L4kaR5DC/6q+iJww5xpZ1XVbd3TL9O74bokaYTG2cf/fOBTY2xfkpo0luBP8gbgNuDkRZZZn2Rjko0zMzOjK06S1riRB3+Sw4GnAM+uqlpouaraUFXTVTU9NTU1ugIlaY278ygbS3IQcBTwW1X141G2LUnqGebpnKcA5wMPSrIpyZHAu4CdgbOTXJrkuGG1L0ma39D2+KvqsHkmv3dY7UmSBuOVu5LUGINfkhpj8EtSYwx+SWqMwS9JjTH4JakxBr8kNWakV+6uZsnC8xYeeEKSJo97/JLUGINfkhpj8EtSYwx+SWqMwS9JjTH4JakxBr8kNcbgl6TGDPMOXCck2Zzksr5puyU5O8m/dN93HVb7kqT5DXOP/0TgoDnTXgd8rqr2BT7XPZckjdDQgr+qvgjcMGfyIcD7u8fvB542rPYlSfMbdR//PavqOoDu+x4LLZhkfZKNSTbOzMyMrEBJWusGCv4kjxtk2tZUVRuqarqqpqempobZlCQ1ZdA9/r8ZcNpSrk9yb4Du++YVrEOStAUWHZY5yWOAxwJTSV7VN+tuwDYraO8M4HDgbd33j69gHZKkLbDUePzbATt1y+3cN/1G4NDFXpjkFOAAYPckm4Cj6QX+qUmOBK4GnrGysiVJK7Vo8FfVucC5SU6squ8uZ8VVddgCsw5cznokSVvXoHfgukuSDcC6/tdU1ROHUZQkaXgGDf4PA8cBxwO3D68cSdKwDRr8t1XVu4daiSRpJAY9nfPMJP8zyb278XZ2S7LbUCuTJA3FoHv8h3ffX9M3rYD7b91yJEnDNlDwV9X9hl2IJGk0Bgr+JP9jvulV9YGtW87qlSw8r2p0dUjSUgbt6tm/7/Fd6Z2Lfwlg8EvSKjNoV89L+58n2QU4aSgVSZKGaqXDMv8Y2HdrFiJJGo1B+/jPpHcWD/QGZ3swcOqwipIkDc+gffzv6Ht8G/Ddqto0hHokSUM2UFdPN1jblfRG6NwVuHWYRUmShmfQO3A9E7iQ3jDKzwQuSLLosMySpMk0aFfPG4D9q2ozQJIp4LPAacMqTJI0HIOe1XOn2dDv/NsyXvufJHllksuTXJbklCR3Xem6JEnLM2h4fzrJZ5IckeQI4B+AT66kwSR7AS8DpqtqP3pnCT1rJeuSJC3fUvfcfQBwz6p6TZLfBx4PBDgfOHkL290+yc+AHYBrt2BdkqRlWGqP/1jgJoCqOr2qXlVVr6S3t3/sShqsqu/ROz30auA64EdVddbc5ZKsT7IxycaZmZmVNLVmJQt/tVyLpMEsFfzrquqrcydW1UZ6t2FctiS7AocA9wP2BHZM8px52thQVdNVNT01NbWSpiRJ81gq+Bc76Lr9Ctt8EvCdqpqpqp8BpwOPXeG6JEnLtFTwX5TkhXMnJjkSuHiFbV4NPDrJDklCb6TPK1a4LknSMi11Hv8rgI8meTa/CPppYDvg6StpsKouSHIavWGdbwP+GdiwknVJkpZv0eCvquuBxyZ5ArBfN/kfqurzW9JoVR0NHL0l65Akrcyg4/GfA5wz5FokSSOw4qtvJUmrk8EvSY0x+CWpMQa/JDXG4Jekxhj8ktQYg1+SGmPwS1JjDH5JaozBL0mNMfglqTEGvyQ1xuCXpMYY/JLUGINfkhozluBPcvckpyW5MskVSR4zjjokqUUD3YhlCP4K+HRVHZpkO2CHMdUhSc0ZefAnuRvwm8ARAFV1K3DrqOuQpFaNo6vn/sAM8L4k/5zk+CQ7zl0oyfokG5NsnJmZGX2Vq1iy8Jcmgz8jjdM4gv/OwKOAd1fVI4FbgNfNXaiqNlTVdFVNT01NjbpGSVqzxhH8m4BNVXVB9/w0ev8IJEkjMPLgr6rvA9ckeVA36UDg66OuQ5JaNa6zel4KnNyd0fNt4HljqkOSmjOW4K+qS4HpcbQtSa3zyl1JaozBL0mNMfglqTEGvyQ1xuCXpMYY/JLUGINfkhpj8EtSYwx+SWqMwS9JjTH4JakxBr8kNcbgl6TGGPyS1BiDX5IaM7bgT7JNd7P1T4yrBklq0Tj3+F8OXDHG9iWpSWMJ/iT3AX4XOH4c7UtSy8Z1z91jgdcCOy+0QJL1wHqAffbZZzRVNSRZeF7V6mtnEJNUy2rjtltbRr7Hn+QpwOaqunix5apqQ1VNV9X01NTUiKqTpLVvHF09jwOemuQq4EPAE5N8cAx1SFKTRh78VfXHVXWfqloHPAv4fFU9Z9R1SFKrPI9fkhozroO7AFTVF4AvjLMGSWqNe/yS1BiDX5IaY/BLUmMMfklqjMEvSY0x+CWpMWM9nVOTzfFZ5tfiOEdaW9zjl6TGGPyS1BiDX5IaY/BLUmMMfklqjMEvSY0x+CWpMQa/JDVmHPfc3TvJOUmuSHJ5kpePugZJatk4rty9Dfijqrokyc7AxUnOrqqvj6EWSWrOOO65e11VXdI9vgm4Athr1HVIUqvGOlZPknXAI4EL5pm3HlgPsM8++4y2MI3U1hqTZpLGtpmkWkZlkPfc4naZRGM7uJtkJ+AjwCuq6sa586tqQ1VNV9X01NTU6AuUpDVqLMGfZFt6oX9yVZ0+jhokqVXjOKsnwHuBK6rqnaNuX5JaN449/scBzwWemOTS7uvgMdQhSU0a+cHdqjoPWOQQjyRpmLxyV5IaY/BLUmMMfklqjMEvSY0x+CWpMQa/JDXG4Jekxox1kDZp0qy2QcS2xsBoa/E9j8pqHWDQPX5JaozBL0mNMfglqTEGvyQ1xuCXpMYY/JLUGINfkhpj8EtSY8Z1z92DknwjybeSvG4cNUhSq8Zxz91tgL8Ffgd4CHBYkoeMug5JatU49vh/DfhWVX27qm4FPgQcMoY6JKlJ4xirZy/gmr7nm4Bfn7tQkvXA+u7pzUm+McC6dwd+MGghi42PsTWXWWT+z+udgFqWWuaXtu2YaxnEsuod1fZfZJmR/y4Msswk/e4OYpDf3VEZ1e/uEu4738RxBP98b+M/DUNUVRuADctacbKxqqZXWtioraZ6V1OtYL3DtprqXU21wmjqHUdXzyZg777n9wGuHUMdktSkcQT/RcC+Se6XZDvgWcAZY6hDkpo08q6eqrotyUuAzwDbACdU1eVbafXL6hqaAKup3tVUK1jvsK2meldTrTCCelOTeKcFSdLQeOWuJDXG4JekxqyJ4F9tQ0AkuSrJ15JcmmTjuOuZK8kJSTYnuaxv2m5Jzk7yL933XcdZY78F6j0myfe6bXxpkoPHWeOsJHsnOSfJFUkuT/LybvpEbt9F6p3U7XvXJBcm+UpX75u76RO3fRepdejbdtX38XdDQHwT+G16p4peBBxWVV8fa2GLSHIVMF1VI7+oZBBJfhO4GfhAVe3XTXs7cENVva3757prVR01zjpnLVDvMcDNVfWOcdY2V5J7A/euqkuS7AxcDDwNOIIJ3L6L1PtMJnP7Btixqm5Osi1wHvBy4PeZsO27SK0HMeRtuxb2+B0CYiurqi8CN8yZfAjw/u7x++n98U+EBeqdSFV1XVVd0j2+CbiC3tXsE7l9F6l3IlXPzd3TbbuvYgK37yK1Dt1aCP75hoCY2F/MTgFnJbm4G5piNbhnVV0HvTAA9hhzPYN4SZKvdl1BY/9oP1eSdcAjgQtYBdt3Tr0wods3yTZJLgU2A2dX1cRu3wVqhSFv27UQ/AMNATFhHldVj6I3Qun/6roqtHW9G/gV4BHAdcD/HWs1cyTZCfgI8IqqunHc9SxlnnondvtW1e1V9Qh6owL8WpL9xlzSghaodejbdi0E/6obAqKqru2+bwY+Sq+7atJd3/X3zvb7bh5zPYuqquu7P6o7gPcwQdu468/9CHByVZ3eTZ7Y7TtfvZO8fWdV1Q+BL9DrM5/Y7Qu/XOsotu1aCP5VNQREkh27g2Qk2RF4MnDZ4q+aCGcAh3ePDwc+PsZaljT7R955OhOyjbsDeu8Frqiqd/bNmsjtu1C9E7x9p5LcvXu8PfAk4EomcPsuVOsotu2qP6sHoDvd6Vh+MQTEW8Zb0cKS3J/eXj70hsz4u0mrN8kpwAH0hoe9Hjga+BhwKrAPcDXwjKqaiAOqC9R7AL2PygVcBbxoto93nJI8HvhH4GvAHd3k19PrN5+47btIvYcxmdv34fQO3m5Db8f21Kr6kyT3YMK27yK1nsSQt+2aCH5J0uDWQlePJGkZDH5JaozBL0mNMfglqTEGvyQ1Zhw3W5cmQpLb6Z2muC1wG71T647tLpyR1iyDXy37SXe5PEn2AP4O2IXedQBbJMk2VXX7lq5HGga7eiR+PnzGenqDY6UbPOsvklzUDZb1IoAkd0ry/7rx0z+R5JNJDu3mXZXkTUnOA56R5MlJzk9ySZIPd+PdkORXk5zbDdL3mTlXakpDZ/BLnar6Nr2/iT2AI4EfVdX+wP7AC5Pcj9647uuAhwEvAB4zZzX/UVWPBz4LvBF4Ujcg30bgVd24N38DHFpVvwqcAEzUldta++zqkX7Z7GivTwYePrs3T68LaF/g8cCHu+MA309yzpzX/333/dHAQ4Av9Ya7YTvgfOBBwH7A2d30beiNwCiNjMEvdbpxlG6nN3JjgJdW1WfmLPO7S6zmltlF6Y2vftic1z8MuLyq5n5SkEbGrh6J3kiJwHHAu6o3gNVngBd3XTMkeWA3mup5wB90ff33pDcY3Hy+DDwuyQO61++Q5IHAN4CpJI/ppm+b5KHDfG/SXO7xq2Xbd3c/mj2d8yRgdujh4+n15V/SDU08Q+92fR8BDqQ3VO436Y2q+aO5K66qmSRHAKckuUs3+Y1V9c2u++ivk+xC72/wWODyrf/2pPk5Oqe0TEl26m6QfQ/gQnp3VPv+uOuSBuUev7R8n+huoLEd8KeGvlYb9/glqTEe3JWkxhj8ktQYg1+SGmPwS1JjDH5Jasz/Bx9QBO4a/jXoAAAAAElFTkSuQmCC\n",
      "text/plain": [
       "<Figure size 432x288 with 1 Axes>"
      ]
     },
     "metadata": {
      "needs_background": "light"
     },
     "output_type": "display_data"
    }
   ],
   "source": [
    "degreeCount = collections.Counter (degree_sequence)\n",
    "deg, cnt = zip (*degreeCount.items ())\n",
    "fig, ax = plt.subplots ()\n",
    "plt.bar (deg, cnt, width=0.80, color=\"b\")\n",
    "plt.title (\"Degree Distribution\")\n",
    "plt.ylabel (\"Count\")\n",
    "plt.xlabel (\"Degree\")\n",
    "plt.show()"
   ]
  },
  {
   "cell_type": "markdown",
   "id": "hidden-witness",
   "metadata": {},
   "source": [
    "diameter of the graph"
   ]
  },
  {
   "cell_type": "code",
   "execution_count": 289,
   "id": "architectural-claim",
   "metadata": {},
   "outputs": [
    {
     "data": {
      "text/plain": [
       "8"
      ]
     },
     "execution_count": 289,
     "metadata": {},
     "output_type": "execute_result"
    }
   ],
   "source": [
    "nx.diameter(G)"
   ]
  },
  {
   "cell_type": "markdown",
   "id": "threaded-homeless",
   "metadata": {},
   "source": [
    "shortest path"
   ]
  },
  {
   "cell_type": "code",
   "execution_count": 352,
   "id": "republican-rebel",
   "metadata": {},
   "outputs": [
    {
     "data": {
      "text/plain": [
       "dict_keys([18, 845, 219, 889, 80, 285, 866, 706, 908, 200, 496, 466, 72, 261, 269, 893, 3, 487, 603, 162, 183, 694, 923, 184, 424, 779, 441, 79, 134, 215, 580, 649, 977, 859, 210, 1323, 54, 131, 884, 691, 428, 275, 882, 253, 248, 771, 510, 753, 447, 465, 117, 198, 343, 97, 985, 527, 366, 491, 14, 181, 246, 119, 1260, 650, 322, 513, 15, 401, 429, 544, 267, 656, 741, 1245, 784, 894, 220, 488, 172, 886, 387, 1362, 346, 147, 1392, 954, 374, 110, 970, 498, 642, 99, 874, 653, 20, 478, 39, 71, 211, 477, 272, 55, 1164, 674, 122, 178, 222, 59, 763, 339, 440, 720, 193, 615, 250, 236, 1492, 998, 880, 295, 909, 118, 504, 778, 793, 378, 489, 259, 74, 372, 120, 141, 333, 836, 89, 270, 660, 426, 725, 106, 160, 486, 257, 245, 43, 809, 520, 445, 156, 577])"
      ]
     },
     "execution_count": 352,
     "metadata": {},
     "output_type": "execute_result"
    }
   ],
   "source": [
    "dict(nx.all_pairs_shortest_path(G)).keys()"
   ]
  },
  {
   "cell_type": "markdown",
   "id": "surface-leader",
   "metadata": {},
   "source": [
    "The average path length"
   ]
  },
  {
   "cell_type": "code",
   "execution_count": 291,
   "id": "negative-suggestion",
   "metadata": {},
   "outputs": [
    {
     "data": {
      "text/plain": [
       "3.108724832214765"
      ]
     },
     "execution_count": 291,
     "metadata": {},
     "output_type": "execute_result"
    }
   ],
   "source": [
    "nx.average_shortest_path_length(G)"
   ]
  },
  {
   "cell_type": "markdown",
   "id": "sought-vanilla",
   "metadata": {},
   "source": [
    "Clustering coefficient of a node"
   ]
  },
  {
   "cell_type": "code",
   "execution_count": 311,
   "id": "induced-times",
   "metadata": {},
   "outputs": [
    {
     "data": {
      "text/plain": [
       "0.4810454491780871"
      ]
     },
     "execution_count": 311,
     "metadata": {},
     "output_type": "execute_result"
    }
   ],
   "source": [
    "nx.average_clustering(G)"
   ]
  },
  {
   "cell_type": "code",
   "execution_count": 293,
   "id": "flying-jersey",
   "metadata": {},
   "outputs": [
    {
     "data": {
      "text/plain": [
       "{18: 0.8,\n",
       " 845: 0.48366013071895425,\n",
       " 219: 0.47435897435897434,\n",
       " 889: 0.40441176470588236,\n",
       " 80: 0.44565217391304346,\n",
       " 285: 0.5,\n",
       " 866: 0.2857142857142857,\n",
       " 706: 0.782051282051282,\n",
       " 908: 0.3842364532019704,\n",
       " 200: 0,\n",
       " 496: 0,\n",
       " 466: 0.48947368421052634,\n",
       " 72: 0.9,\n",
       " 261: 0.35555555555555557,\n",
       " 269: 0.38769230769230767,\n",
       " 893: 0.6071428571428571,\n",
       " 3: 0.9818181818181818,\n",
       " 487: 0.45789473684210524,\n",
       " 603: 0.4619883040935672,\n",
       " 162: 0.9,\n",
       " 183: 0.7142857142857143,\n",
       " 694: 0.2833333333333333,\n",
       " 923: 0.3466666666666667,\n",
       " 184: 1.0,\n",
       " 424: 0.6,\n",
       " 779: 0.358974358974359,\n",
       " 441: 1.0,\n",
       " 79: 0.2,\n",
       " 134: 0.6666666666666666,\n",
       " 215: 0.3055555555555556,\n",
       " 580: 0.34285714285714286,\n",
       " 649: 0.26666666666666666,\n",
       " 977: 0.8,\n",
       " 859: 0.5266666666666666,\n",
       " 210: 0.6209150326797386,\n",
       " 1323: 0.5,\n",
       " 54: 0.4,\n",
       " 131: 0.2,\n",
       " 884: 0.4666666666666667,\n",
       " 691: 0.638095238095238,\n",
       " 428: 0.8181818181818182,\n",
       " 275: 0.4533333333333333,\n",
       " 882: 0.5,\n",
       " 253: 0.9818181818181818,\n",
       " 248: 0.2857142857142857,\n",
       " 771: 0.5,\n",
       " 510: 0.7619047619047619,\n",
       " 753: 0.8939393939393939,\n",
       " 447: 0,\n",
       " 465: 0.47619047619047616,\n",
       " 117: 0.36363636363636365,\n",
       " 198: 0.47619047619047616,\n",
       " 343: 0,\n",
       " 97: 0.5,\n",
       " 985: 0.43333333333333335,\n",
       " 527: 0.5277777777777778,\n",
       " 366: 1.0,\n",
       " 491: 0.4,\n",
       " 14: 0.26666666666666666,\n",
       " 181: 0.39076923076923076,\n",
       " 246: 0.49407114624505927,\n",
       " 119: 1.0,\n",
       " 1260: 0.32941176470588235,\n",
       " 650: 0.4666666666666667,\n",
       " 322: 0.25,\n",
       " 513: 0.6666666666666666,\n",
       " 15: 0.2857142857142857,\n",
       " 401: 0.38421052631578945,\n",
       " 429: 0.7333333333333333,\n",
       " 544: 0.5,\n",
       " 267: 0.4052631578947368,\n",
       " 656: 0.3333333333333333,\n",
       " 741: 0.26666666666666666,\n",
       " 1245: 0.8,\n",
       " 784: 0.5476190476190477,\n",
       " 894: 0.3484848484848485,\n",
       " 220: 0.6666666666666666,\n",
       " 488: 0.3333333333333333,\n",
       " 172: 1.0,\n",
       " 886: 1.0,\n",
       " 387: 0.4,\n",
       " 1362: 0.3787878787878788,\n",
       " 346: 0.3333333333333333,\n",
       " 147: 0.41818181818181815,\n",
       " 1392: 0.38181818181818183,\n",
       " 954: 0.452991452991453,\n",
       " 374: 0.5064935064935064,\n",
       " 110: 0.5294117647058824,\n",
       " 970: 0,\n",
       " 498: 0.7142857142857143,\n",
       " 642: 0.47619047619047616,\n",
       " 99: 0.047619047619047616,\n",
       " 874: 0,\n",
       " 653: 0,\n",
       " 20: 1.0,\n",
       " 478: 0,\n",
       " 39: 0.9545454545454546,\n",
       " 71: 0.6,\n",
       " 211: 0.2909090909090909,\n",
       " 477: 0.4,\n",
       " 272: 0.44333333333333336,\n",
       " 55: 0.8571428571428571,\n",
       " 1164: 0.5,\n",
       " 674: 0,\n",
       " 122: 1.0,\n",
       " 178: 0.16666666666666666,\n",
       " 222: 1.0,\n",
       " 59: 0.5,\n",
       " 763: 0,\n",
       " 339: 0.6,\n",
       " 440: 0.5578947368421052,\n",
       " 720: 0.3333333333333333,\n",
       " 193: 0.15555555555555556,\n",
       " 615: 0.42857142857142855,\n",
       " 250: 0.7,\n",
       " 236: 0.25,\n",
       " 1492: 0.725,\n",
       " 998: 0.6081871345029239,\n",
       " 880: 0,\n",
       " 295: 1.0,\n",
       " 909: 1.0,\n",
       " 118: 0.8333333333333334,\n",
       " 504: 1.0,\n",
       " 778: 1.0,\n",
       " 793: 1.0,\n",
       " 378: 0.3333333333333333,\n",
       " 489: 0,\n",
       " 259: 0,\n",
       " 74: 0.6666666666666666,\n",
       " 372: 0.6666666666666666,\n",
       " 120: 0.6,\n",
       " 141: 0,\n",
       " 333: 0,\n",
       " 836: 0.5,\n",
       " 89: 1.0,\n",
       " 270: 0.2,\n",
       " 660: 0,\n",
       " 426: 0.8,\n",
       " 725: 0,\n",
       " 106: 0.6666666666666666,\n",
       " 160: 0,\n",
       " 486: 1.0,\n",
       " 257: 0,\n",
       " 245: 1.0,\n",
       " 43: 0,\n",
       " 809: 1.0,\n",
       " 520: 0,\n",
       " 445: 0,\n",
       " 156: 0,\n",
       " 577: 0}"
      ]
     },
     "execution_count": 293,
     "metadata": {},
     "output_type": "execute_result"
    }
   ],
   "source": [
    "nx.clustering(G)"
   ]
  },
  {
   "cell_type": "markdown",
   "id": "further-fetish",
   "metadata": {},
   "source": [
    "1.2 Contact"
   ]
  },
  {
   "cell_type": "code",
   "execution_count": 294,
   "id": "prime-macro",
   "metadata": {},
   "outputs": [
    {
     "name": "stdout",
     "output_type": "stream",
     "text": [
      "Number of connected components: 1\n"
     ]
    }
   ],
   "source": [
    "print (\"Number of connected components: %i\" % nx.number_connected_components (G))"
   ]
  },
  {
   "cell_type": "code",
   "execution_count": 28,
   "id": "generic-negotiation",
   "metadata": {},
   "outputs": [
    {
     "name": "stdout",
     "output_type": "stream",
     "text": [
      "Number of nodes in largest component: 150\n"
     ]
    }
   ],
   "source": [
    "largest = max (nx.connected_components (G), key = len)\n",
    "print (\"Number of nodes in largest component: %i\" % len (largest))"
   ]
  },
  {
   "cell_type": "code",
   "execution_count": 31,
   "id": "instrumental-saint",
   "metadata": {},
   "outputs": [
    {
     "name": "stdout",
     "output_type": "stream",
     "text": [
      "Diameter of largest component: 8\n"
     ]
    }
   ],
   "source": [
    "component = G.subgraph (largest)\n",
    "print (\"Diameter of largest component: %i\" % nx.diameter(component))"
   ]
  },
  {
   "cell_type": "code",
   "execution_count": 54,
   "id": "assured-binding",
   "metadata": {},
   "outputs": [
    {
     "name": "stdout",
     "output_type": "stream",
     "text": [
      "Graph contains cycles, e.g. [(18, 845), (845, 424), (424, 18)]\n"
     ]
    }
   ],
   "source": [
    "try:\n",
    "    cycle = nx.find_cycle (G)\n",
    "    print (\"Graph contains cycles, e.g. %s\" % str (cycle))\n",
    "except:\n",
    "    print (\"Graph is a tree\")"
   ]
  },
  {
   "cell_type": "code",
   "execution_count": 72,
   "id": "seven-soldier",
   "metadata": {
    "scrolled": false
   },
   "outputs": [
    {
     "data": {
      "image/png": "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\n",
      "text/plain": [
       "<Figure size 432x288 with 1 Axes>"
      ]
     },
     "metadata": {},
     "output_type": "display_data"
    }
   ],
   "source": [
    "fig = plt.figure()\n",
    "\n",
    "nx.draw_networkx(G,node_size = 30, with_labels =False)\n",
    "plt.show()"
   ]
  },
  {
   "cell_type": "markdown",
   "id": "temporal-silicon",
   "metadata": {},
   "source": [
    "## Task B"
   ]
  },
  {
   "cell_type": "markdown",
   "id": "chief-riding",
   "metadata": {},
   "source": [
    "判断最短路径，是几级。"
   ]
  },
  {
   "cell_type": "markdown",
   "id": "electoral-prospect",
   "metadata": {},
   "source": [
    "## 1"
   ]
  },
  {
   "cell_type": "code",
   "execution_count": null,
   "id": "pacific-journal",
   "metadata": {},
   "outputs": [],
   "source": [
    "# 最坏"
   ]
  },
  {
   "cell_type": "code",
   "execution_count": 77,
   "id": "equal-generation",
   "metadata": {},
   "outputs": [
    {
     "name": "stdout",
     "output_type": "stream",
     "text": [
      "The first-order list:{496, 200}\n",
      "The second-order list:{378}\n",
      "The third-order list:{99, 272, 1492, 117, 246}\n",
      "The fourth-order list:{513, 3, 520, 14, 527, 15, 18, 20, 544, 39, 43, 54, 55, 59, 577, 580, 71, 72, 74, 79, 80, 89, 603, 97, 615, 106, 110, 118, 119, 120, 122, 642, 131, 134, 649, 650, 1164, 653, 141, 656, 147, 660, 156, 160, 162, 674, 172, 178, 691, 181, 694, 183, 184, 193, 706, 198, 720, 210, 211, 725, 215, 219, 220, 1245, 222, 741, 1260, 236, 753, 245, 248, 250, 763, 253, 257, 771, 259, 261, 778, 779, 267, 269, 270, 784, 275, 793, 285, 295, 809, 1323, 322, 836, 845, 333, 1362, 339, 343, 346, 859, 866, 874, 366, 1392, 880, 882, 884, 372, 886, 374, 889, 893, 894, 387, 908, 909, 401, 923, 424, 426, 428, 429, 440, 441, 954, 445, 447, 970, 977, 466, 465, 985, 477, 478, 998, 487, 488, 489, 486, 491, 498, 504, 510}\n",
      "Node 496 and node 200 has 1 length of the shortest path and 1 neighbour(s)\n"
     ]
    }
   ],
   "source": [
    "# Calculate the number of neighbours when there are 2 employees who test positive\n",
    "def TwoInfection(G, infect_A, infect_B):\n",
    "    # the first-order nodes: the neighbour nodes of the source of infection by Dijkstra's shortest path algorithm\n",
    "    ngb_1st = nx.shortest_path (G, infect_A, infect_B, method = 'dijkstra')\n",
    "    # the second-order nodes: the neighbour nodes of the first-order nodes        \n",
    "    ngb_2nd = []\n",
    "    for i in ngb_1st:\n",
    "        ngb_list1 = list(G.neighbors(i))\n",
    "        ngb_2nd += ngb_list1\n",
    "    # the third-order nodes: the neighbour nodes of the second-order nodes\n",
    "    ngb_3rd = []\n",
    "    for j in ngb_2nd:\n",
    "        ngb_list2 = list(G.neighbors(j))\n",
    "        ngb_3rd += ngb_list2\n",
    "    # ignore the repeated nodes\n",
    "    ngb_1st_set = set(ngb_1st)\n",
    "    ngb_2nd_set = set(ngb_2nd) - ngb_1st_set\n",
    "    ngb_3rd_set = set(ngb_3rd) - ngb_2nd_set - ngb_1st_set\n",
    "    ngb_4th_set = set(G)- ngb_3rd_set - ngb_2nd_set - ngb_1st_set\n",
    "    print(\"The first-order list:{}\\nThe second-order list:{}\\nThe third-order list:{}\\nThe fourth-order list:{}\".format(ngb_1st_set,ngb_2nd_set,ngb_3rd_set,ngb_4th_set))\n",
    "    edges_num = len(ngb_1st_set) - 1 # the number of edges\n",
    "    ngb_num = len(ngb_2nd_set) # the number of the minimum of susceptible population\n",
    "    return edges_num,ngb_num\n",
    "\n",
    "edges_num,ngb_num = TwoInfection(G, 496, 200)\n",
    "print(\"Node 496 and node 200 has {} length of the shortest path and {} neighbour(s)\".format(edges_num,ngb_num))"
   ]
  },
  {
   "cell_type": "code",
   "execution_count": 66,
   "id": "chemical-wedding",
   "metadata": {},
   "outputs": [
    {
     "name": "stdout",
     "output_type": "stream",
     "text": [
      "The first-order list:{200}\n",
      "The second-order list:{378}\n",
      "The third-order list:{99, 272, 1492, 117, 246}\n",
      "The fourth-order list:{513, 3, 520, 14, 527, 15, 18, 20, 544, 39, 43, 54, 55, 59, 577, 580, 71, 72, 74, 79, 80, 89, 603, 97, 615, 106, 110, 118, 119, 120, 122, 642, 131, 134, 649, 650, 1164, 653, 141, 656, 147, 660, 156, 160, 162, 674, 172, 178, 691, 181, 694, 183, 184, 193, 706, 198, 720, 210, 211, 725, 219, 220, 1245, 222, 741, 1260, 236, 753, 245, 248, 250, 763, 253, 257, 771, 259, 261, 778, 779, 267, 269, 270, 784, 275, 793, 285, 295, 809, 1323, 322, 836, 845, 333, 1362, 339, 343, 346, 859, 866, 874, 366, 1392, 880, 882, 884, 372, 886, 374, 889, 893, 894, 387, 908, 909, 401, 923, 424, 426, 428, 429, 440, 441, 954, 445, 447, 970, 977, 466, 465, 985, 477, 478, 998, 487, 488, 489, 486, 491, 496, 498, 504, 510}\n"
     ]
    },
    {
     "data": {
      "text/plain": [
       "({200},\n",
       " {378},\n",
       " {99, 117, 246, 272, 1492},\n",
       " {3,\n",
       "  14,\n",
       "  15,\n",
       "  18,\n",
       "  20,\n",
       "  39,\n",
       "  43,\n",
       "  54,\n",
       "  55,\n",
       "  59,\n",
       "  71,\n",
       "  72,\n",
       "  74,\n",
       "  79,\n",
       "  80,\n",
       "  89,\n",
       "  97,\n",
       "  106,\n",
       "  110,\n",
       "  118,\n",
       "  119,\n",
       "  120,\n",
       "  122,\n",
       "  131,\n",
       "  134,\n",
       "  141,\n",
       "  147,\n",
       "  156,\n",
       "  160,\n",
       "  162,\n",
       "  172,\n",
       "  178,\n",
       "  181,\n",
       "  183,\n",
       "  184,\n",
       "  193,\n",
       "  198,\n",
       "  210,\n",
       "  211,\n",
       "  219,\n",
       "  220,\n",
       "  222,\n",
       "  236,\n",
       "  245,\n",
       "  248,\n",
       "  250,\n",
       "  253,\n",
       "  257,\n",
       "  259,\n",
       "  261,\n",
       "  267,\n",
       "  269,\n",
       "  270,\n",
       "  275,\n",
       "  285,\n",
       "  295,\n",
       "  322,\n",
       "  333,\n",
       "  339,\n",
       "  343,\n",
       "  346,\n",
       "  366,\n",
       "  372,\n",
       "  374,\n",
       "  387,\n",
       "  401,\n",
       "  424,\n",
       "  426,\n",
       "  428,\n",
       "  429,\n",
       "  440,\n",
       "  441,\n",
       "  445,\n",
       "  447,\n",
       "  465,\n",
       "  466,\n",
       "  477,\n",
       "  478,\n",
       "  486,\n",
       "  487,\n",
       "  488,\n",
       "  489,\n",
       "  491,\n",
       "  496,\n",
       "  498,\n",
       "  504,\n",
       "  510,\n",
       "  513,\n",
       "  520,\n",
       "  527,\n",
       "  544,\n",
       "  577,\n",
       "  580,\n",
       "  603,\n",
       "  615,\n",
       "  642,\n",
       "  649,\n",
       "  650,\n",
       "  653,\n",
       "  656,\n",
       "  660,\n",
       "  674,\n",
       "  691,\n",
       "  694,\n",
       "  706,\n",
       "  720,\n",
       "  725,\n",
       "  741,\n",
       "  753,\n",
       "  763,\n",
       "  771,\n",
       "  778,\n",
       "  779,\n",
       "  784,\n",
       "  793,\n",
       "  809,\n",
       "  836,\n",
       "  845,\n",
       "  859,\n",
       "  866,\n",
       "  874,\n",
       "  880,\n",
       "  882,\n",
       "  884,\n",
       "  886,\n",
       "  889,\n",
       "  893,\n",
       "  894,\n",
       "  908,\n",
       "  909,\n",
       "  923,\n",
       "  954,\n",
       "  970,\n",
       "  977,\n",
       "  985,\n",
       "  998,\n",
       "  1164,\n",
       "  1245,\n",
       "  1260,\n",
       "  1323,\n",
       "  1362,\n",
       "  1392})"
      ]
     },
     "execution_count": 66,
     "metadata": {},
     "output_type": "execute_result"
    }
   ],
   "source": [
    "# Calculate the number of neighbours when there is 1 employee who test positive\n",
    "def OneInfection(graph, infect, noninfect):\n",
    "    G = graph.copy()\n",
    "    G.remove_node(noninfect) # delete the non-infected node\n",
    "    # Breadth-first search with 3 depth limits\n",
    "    breadth  = dict(nx.bfs_successors (G, source = infect, depth_limit = 3))\n",
    "    ngb_1st = breadth[infect] # the first-order nodes: the neighbour nodes of the source of infection\n",
    "    # the second-order nodes: the neighbour nodes of the first-order nodes\n",
    "    ngb_2nd = []\n",
    "    for i in ngb_1st:\n",
    "            try:\n",
    "                ngb_2nd += breadth[i]\n",
    "            except:\n",
    "                print(\"In second order, {} node has no neighbour node\".format(i))\n",
    "    # the third-order nodes: the neighbour nodes of the second-order nodes\n",
    "    ngb_3rd = []\n",
    "    for j in ngb_2nd:\n",
    "            try:\n",
    "                ngb_3rd += breadth[j]\n",
    "            except:\n",
    "                print(\"In third order, {} node has no neighbour node\".format(j))\n",
    "    # ignore the repeated nodes\n",
    "    ngb_1st_set = set(ngb_1st)\n",
    "    ngb_2nd_set = set(ngb_2nd)\n",
    "    ngb_3rd_set = set(ngb_3rd) - ngb_2nd_set\n",
    "    ngb_4th_set = set(G) - ngb_3rd_set - ngb_2nd_set - ngb_1st_set\n",
    "    print(\"The first-order list:{}\\nThe second-order list:{}\\nThe third-order list:{}\\nThe fourth-order list:{}\"\n",
    "          .format(ngb_1st_set,ngb_2nd_set,ngb_3rd_set,ngb_4th_set))\n",
    "    return ngb_1st_set, ngb_2nd_set, ngb_3rd_set, ngb_4th_set\n",
    "OneInfection(G, 496, 215)"
   ]
  },
  {
   "cell_type": "code",
   "execution_count": null,
   "id": "bibliographic-belly",
   "metadata": {},
   "outputs": [],
   "source": []
  },
  {
   "cell_type": "code",
   "execution_count": 58,
   "id": "spoken-weekend",
   "metadata": {},
   "outputs": [
    {
     "data": {
      "text/plain": [
       "6"
      ]
     },
     "execution_count": 58,
     "metadata": {},
     "output_type": "execute_result"
    }
   ],
   "source": [
    "ls = nx.shortest_path (G, 496, 215, method = 'bellman-ford')\n",
    "ls[1:-1]\n",
    "s = set(G.neighbors(378))\n",
    "len(s)"
   ]
  },
  {
   "cell_type": "code",
   "execution_count": 425,
   "id": "swiss-architecture",
   "metadata": {},
   "outputs": [
    {
     "name": "stdout",
     "output_type": "stream",
     "text": [
      "496 1\n",
      "215 9\n",
      "447 1\n",
      "343 1\n",
      "527 9\n",
      "1260 35\n",
      "970 1\n",
      "874 1\n",
      "178 9\n",
      "763 1\n",
      "236 9\n",
      "880 1\n",
      "489 1\n",
      "141 1\n",
      "660 1\n",
      "43 1\n",
      "520 1\n",
      "445 1\n",
      "156 1\n",
      "577 1\n",
      "(2, [])\n"
     ]
    }
   ],
   "source": [
    "for n, d in G.degree():\n",
    "    if d == max([d for n, d in G.degree()]):\n",
    "        print(n,d)\n",
    "    if d == min([d for n, d in G.degree()]):\n",
    "        print(n,d)\n",
    "    if d == int(mean_degree):\n",
    "        print(n,d)\n",
    "\n",
    "ls = [466, 1260]\n",
    "print(AtoB(G, ls))"
   ]
  },
  {
   "cell_type": "code",
   "execution_count": 333,
   "id": "surprised-lyric",
   "metadata": {},
   "outputs": [
    {
     "data": {
      "text/plain": [
       "[(18, 5),\n",
       " (845, 18),\n",
       " (219, 13),\n",
       " (889, 17),\n",
       " (80, 24),\n",
       " (285, 8),\n",
       " (866, 8),\n",
       " (706, 13),\n",
       " (908, 29),\n",
       " (200, 2),\n",
       " (496, 1),\n",
       " (466, 20),\n",
       " (72, 5),\n",
       " (261, 10),\n",
       " (269, 26),\n",
       " (893, 8),\n",
       " (3, 11),\n",
       " (487, 20),\n",
       " (603, 19),\n",
       " (162, 5),\n",
       " (183, 7),\n",
       " (694, 16),\n",
       " (923, 25),\n",
       " (184, 6),\n",
       " (424, 6),\n",
       " (779, 27),\n",
       " (441, 3),\n",
       " (79, 6),\n",
       " (134, 4),\n",
       " (215, 9),\n",
       " (580, 15),\n",
       " (649, 21),\n",
       " (977, 6),\n",
       " (859, 25),\n",
       " (210, 18),\n",
       " (1323, 5),\n",
       " (54, 6),\n",
       " (131, 5),\n",
       " (884, 6),\n",
       " (691, 15),\n",
       " (428, 11),\n",
       " (275, 25),\n",
       " (882, 5),\n",
       " (253, 11),\n",
       " (248, 8),\n",
       " (771, 4),\n",
       " (510, 7),\n",
       " (753, 12),\n",
       " (447, 1),\n",
       " (465, 21),\n",
       " (117, 12),\n",
       " (198, 7),\n",
       " (343, 1),\n",
       " (97, 4),\n",
       " (985, 16),\n",
       " (527, 9),\n",
       " (366, 3),\n",
       " (491, 5),\n",
       " (14, 6),\n",
       " (181, 26),\n",
       " (246, 23),\n",
       " (119, 3),\n",
       " (1260, 35),\n",
       " (650, 6),\n",
       " (322, 8),\n",
       " (513, 4),\n",
       " (15, 7),\n",
       " (401, 20),\n",
       " (429, 6),\n",
       " (544, 4),\n",
       " (267, 20),\n",
       " (656, 3),\n",
       " (741, 6),\n",
       " (1245, 5),\n",
       " (784, 21),\n",
       " (894, 12),\n",
       " (220, 3),\n",
       " (488, 6),\n",
       " (172, 6),\n",
       " (886, 2),\n",
       " (387, 6),\n",
       " (1362, 33),\n",
       " (346, 4),\n",
       " (147, 11),\n",
       " (1392, 11),\n",
       " (954, 27),\n",
       " (374, 22),\n",
       " (110, 18),\n",
       " (970, 1),\n",
       " (498, 7),\n",
       " (642, 7),\n",
       " (99, 7),\n",
       " (874, 1),\n",
       " (653, 2),\n",
       " (20, 4),\n",
       " (478, 2),\n",
       " (39, 12),\n",
       " (71, 20),\n",
       " (211, 11),\n",
       " (477, 11),\n",
       " (272, 25),\n",
       " (55, 8),\n",
       " (1164, 5),\n",
       " (674, 2),\n",
       " (122, 2),\n",
       " (178, 9),\n",
       " (222, 4),\n",
       " (59, 5),\n",
       " (763, 1),\n",
       " (339, 5),\n",
       " (440, 20),\n",
       " (720, 3),\n",
       " (193, 10),\n",
       " (615, 7),\n",
       " (250, 16),\n",
       " (236, 9),\n",
       " (1492, 16),\n",
       " (998, 19),\n",
       " (880, 1),\n",
       " (295, 2),\n",
       " (909, 2),\n",
       " (118, 4),\n",
       " (504, 2),\n",
       " (778, 2),\n",
       " (793, 3),\n",
       " (378, 6),\n",
       " (489, 1),\n",
       " (259, 2),\n",
       " (74, 3),\n",
       " (372, 3),\n",
       " (120, 11),\n",
       " (141, 1),\n",
       " (333, 2),\n",
       " (836, 5),\n",
       " (89, 3),\n",
       " (270, 5),\n",
       " (660, 1),\n",
       " (426, 5),\n",
       " (725, 2),\n",
       " (106, 3),\n",
       " (160, 2),\n",
       " (486, 2),\n",
       " (257, 2),\n",
       " (245, 10),\n",
       " (43, 1),\n",
       " (809, 2),\n",
       " (520, 1),\n",
       " (445, 1),\n",
       " (156, 1),\n",
       " (577, 1)]"
      ]
     },
     "execution_count": 333,
     "metadata": {},
     "output_type": "execute_result"
    }
   ],
   "source": [
    "list(G.degree())"
   ]
  },
  {
   "cell_type": "code",
   "execution_count": null,
   "id": "academic-produce",
   "metadata": {},
   "outputs": [],
   "source": [
    "nx.shortest_path (G, '236', '6', method = 'dijkstra')"
   ]
  }
 ],
 "metadata": {
  "kernelspec": {
   "display_name": "cusplondon",
   "language": "python",
   "name": "cusplondon"
  },
  "language_info": {
   "codemirror_mode": {
    "name": "ipython",
    "version": 3
   },
   "file_extension": ".py",
   "mimetype": "text/x-python",
   "name": "python",
   "nbconvert_exporter": "python",
   "pygments_lexer": "ipython3",
   "version": "3.6.11"
  }
 },
 "nbformat": 4,
 "nbformat_minor": 5
}
